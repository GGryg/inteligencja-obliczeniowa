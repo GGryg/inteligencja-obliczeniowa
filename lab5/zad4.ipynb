{
 "cells": [
  {
   "cell_type": "code",
   "execution_count": 1,
   "metadata": {},
   "outputs": [],
   "source": [
    "from sklearn.model_selection import train_test_split\n",
    "from sklearn.neighbors import KNeighborsClassifier\n",
    "from sklearn.metrics import confusion_matrix\n",
    "from sklearn.naive_bayes import GaussianNB\n",
    "import pandas as pd\n",
    "\n",
    "df = pd.read_csv(\"iris.csv\")\n",
    "\n",
    "[train_set, test_set] = train_test_split(df.values, train_size=0.7, random_state=278839)\n",
    "\n",
    "test_class = test_set[:, 4]\n",
    "test_input = test_set[:, 0:4]\n",
    "train_class = train_set[:, 4]\n",
    "train_input = train_set[:, 0:4]"
   ]
  },
  {
   "attachments": {},
   "cell_type": "markdown",
   "metadata": {},
   "source": [
    "Przygotowanie danych"
   ]
  },
  {
   "cell_type": "code",
   "execution_count": 2,
   "metadata": {},
   "outputs": [
    {
     "name": "stdout",
     "output_type": "stream",
     "text": [
      "95.55555555555556\n",
      "[[16  0  0]\n",
      " [ 0 15  1]\n",
      " [ 0  1 12]]\n"
     ]
    }
   ],
   "source": [
    "clf = KNeighborsClassifier(n_neighbors=3)\n",
    "clf = clf.fit(train_input, train_class)\n",
    "\n",
    "print(clf.score(test_input, test_class)*100)\n",
    "\n",
    "y_true = test_class\n",
    "y_pred = clf.predict(test_input)\n",
    "\n",
    "print(confusion_matrix(y_true, y_pred))"
   ]
  },
  {
   "attachments": {},
   "cell_type": "markdown",
   "metadata": {},
   "source": [
    "K-najbliższych sąsiadów: 3"
   ]
  },
  {
   "cell_type": "code",
   "execution_count": 3,
   "metadata": {},
   "outputs": [
    {
     "name": "stdout",
     "output_type": "stream",
     "text": [
      "95.55555555555556\n",
      "[[16  0  0]\n",
      " [ 0 15  1]\n",
      " [ 0  1 12]]\n"
     ]
    }
   ],
   "source": [
    "clf = KNeighborsClassifier(n_neighbors=5)\n",
    "clf = clf.fit(train_input, train_class)\n",
    "\n",
    "print(clf.score(test_input, test_class)*100)\n",
    "\n",
    "y_true = test_class\n",
    "y_pred = clf.predict(test_input)\n",
    "\n",
    "print(confusion_matrix(y_true, y_pred))"
   ]
  },
  {
   "attachments": {},
   "cell_type": "markdown",
   "metadata": {},
   "source": [
    "K-najbliższych sąsiadów: 5"
   ]
  },
  {
   "cell_type": "code",
   "execution_count": 4,
   "metadata": {},
   "outputs": [
    {
     "name": "stdout",
     "output_type": "stream",
     "text": [
      "95.55555555555556\n",
      "[[16  0  0]\n",
      " [ 0 14  2]\n",
      " [ 0  0 13]]\n"
     ]
    }
   ],
   "source": [
    "clf = KNeighborsClassifier(n_neighbors=11)\n",
    "clf = clf.fit(train_input, train_class)\n",
    "\n",
    "print(clf.score(test_input, test_class)*100)\n",
    "\n",
    "y_true = test_class\n",
    "y_pred = clf.predict(test_input)\n",
    "\n",
    "print(confusion_matrix(y_true, y_pred))"
   ]
  },
  {
   "attachments": {},
   "cell_type": "markdown",
   "metadata": {},
   "source": [
    "K-najbliższych sąsiadów: 11"
   ]
  },
  {
   "cell_type": "code",
   "execution_count": 5,
   "metadata": {},
   "outputs": [
    {
     "name": "stdout",
     "output_type": "stream",
     "text": [
      "Number of mislabeled points out of a total 45 points : 3\n",
      "93.33333333333333\n",
      "[[16  0  0]\n",
      " [ 0 14  2]\n",
      " [ 0  1 12]]\n"
     ]
    }
   ],
   "source": [
    "gnb = GaussianNB()\n",
    "\n",
    "y_pred = gnb.fit(train_input, train_class).predict(test_input)\n",
    "\n",
    "print(\"Number of mislabeled points out of a total %d points : %d\" % (test_set.shape[0], (test_class != y_pred).sum()))\n",
    "print(42/45*100)\n",
    "print(confusion_matrix(y_true, y_pred))"
   ]
  },
  {
   "attachments": {},
   "cell_type": "markdown",
   "metadata": {},
   "source": [
    "Naiwny bayes"
   ]
  },
  {
   "attachments": {},
   "cell_type": "markdown",
   "metadata": {},
   "source": [
    "## Podsumowanie\n",
    "własne drzewko: 93.(3)%, 42 - dobrych\n",
    "\n",
    "automatyczne drzewko: 93.(3)%, 42 - dobrych\n",
    "\n",
    "k-3: 95.55555555555556%, 43 - dobrych\n",
    "\n",
    "k-5: 95.55555555555556%, 43 - dobrych\n",
    "\n",
    "k-3 i k-5 mylą się w tych samych miejscach\n",
    "\n",
    "k-11: 95.55555555555556%, 43 - dobrych\n",
    "\n",
    "k-11 myli się już w innych\n",
    "\n",
    "gnb: 93.(3)%, 42 - dobrych\n",
    "\n",
    "K-najbliższych sąsiadów, wszystkie dają takie same wyniki lepsze od własnego czy automatycznie wygenerowanego drzewka.\n",
    "Naiwny bayes także daje takie same wyniki co własne i automatycznie wygenerowane drzewka ale gorsze od k-najbliższych sąsiadów"
   ]
  }
 ],
 "metadata": {
  "kernelspec": {
   "display_name": "Python 3",
   "language": "python",
   "name": "python3"
  },
  "language_info": {
   "codemirror_mode": {
    "name": "ipython",
    "version": 3
   },
   "file_extension": ".py",
   "mimetype": "text/x-python",
   "name": "python",
   "nbconvert_exporter": "python",
   "pygments_lexer": "ipython3",
   "version": "3.10.10"
  },
  "orig_nbformat": 4
 },
 "nbformat": 4,
 "nbformat_minor": 2
}
