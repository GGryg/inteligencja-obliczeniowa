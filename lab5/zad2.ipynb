{
 "cells": [
  {
   "cell_type": "code",
   "execution_count": 1,
   "metadata": {},
   "outputs": [],
   "source": [
    "import pandas as pd\n",
    "from sklearn.model_selection import train_test_split\n",
    "\n",
    "df = pd.read_csv(\"iris.csv\")\n",
    "\n",
    "(train_set, test_set) = train_test_split(df.values, train_size=0.7, random_state=278839)"
   ]
  },
  {
   "attachments": {},
   "cell_type": "markdown",
   "metadata": {},
   "source": [
    "Przygotowanie danych"
   ]
  },
  {
   "cell_type": "code",
   "execution_count": 2,
   "metadata": {},
   "outputs": [],
   "source": [
    "def classify_iris(sl, sw, pl, pw):\n",
    "    if pw < 0.6:\n",
    "        return (\"setosa\")\n",
    "    elif pl > 4.5 and pw > 1.6:\n",
    "        return(\"virginica\")\n",
    "    else:\n",
    "        return(\"versicolor\")"
   ]
  },
  {
   "attachments": {},
   "cell_type": "markdown",
   "metadata": {},
   "source": [
    "Funkcja do rozpoznania"
   ]
  },
  {
   "cell_type": "code",
   "execution_count": 3,
   "metadata": {},
   "outputs": [
    {
     "name": "stdout",
     "output_type": "stream",
     "text": [
      "0\n",
      "0.0 %\n",
      "1\n",
      "2.2222222222222223 %\n",
      "2\n",
      "4.444444444444445 %\n",
      "3\n",
      "6.666666666666667 %\n",
      "4\n",
      "8.88888888888889 %\n",
      "5\n",
      "11.11111111111111 %\n",
      "6\n",
      "13.333333333333334 %\n",
      "7\n",
      "15.555555555555555 %\n",
      "8\n",
      "17.77777777777778 %\n",
      "9\n",
      "20.0 %\n",
      "10\n",
      "22.22222222222222 %\n",
      "11\n",
      "24.444444444444443 %\n",
      "12\n",
      "26.666666666666668 %\n",
      "13\n",
      "28.888888888888886 %\n",
      "14\n",
      "31.11111111111111 %\n",
      "15\n",
      "33.33333333333333 %\n",
      "16\n",
      "35.55555555555556 %\n",
      "17\n",
      "37.77777777777778 %\n",
      "18\n",
      "40.0 %\n",
      "19\n",
      "42.22222222222222 %\n",
      "20\n",
      "44.44444444444444 %\n",
      "21\n",
      "46.666666666666664 %\n",
      "22\n",
      "48.888888888888886 %\n",
      "23\n",
      "51.11111111111111 %\n",
      "24\n",
      "53.333333333333336 %\n",
      "25\n",
      "55.55555555555556 %\n",
      "26\n",
      "57.77777777777777 %\n",
      "27\n",
      "60.0 %\n",
      "28\n",
      "62.22222222222222 %\n",
      "29\n",
      "64.44444444444444 %\n",
      "30\n",
      "66.66666666666666 %\n",
      "31\n",
      "68.88888888888889 %\n",
      "32\n",
      "71.11111111111111 %\n",
      "33\n",
      "73.33333333333333 %\n",
      "34\n",
      "75.55555555555556 %\n",
      "34\n",
      "75.55555555555556 %\n",
      "35\n",
      "77.77777777777779 %\n",
      "36\n",
      "80.0 %\n",
      "37\n",
      "82.22222222222221 %\n",
      "37\n",
      "82.22222222222221 %\n",
      "38\n",
      "84.44444444444444 %\n",
      "39\n",
      "86.66666666666667 %\n",
      "40\n",
      "88.88888888888889 %\n",
      "41\n",
      "91.11111111111111 %\n",
      "42\n",
      "93.33333333333333 %\n"
     ]
    }
   ],
   "source": [
    "good_predictions = 0\n",
    "len = test_set.shape[0]\n",
    "\n",
    "for i in range(len):\n",
    "    if classify_iris(test_set[i, 0], test_set[i, 1], test_set[i, 2], test_set[i, 3]) == test_set[i, -1]:\n",
    "        good_predictions += 1\n",
    "    \n",
    "    print(good_predictions)\n",
    "    print(good_predictions/len*100, '%')"
   ]
  },
  {
   "attachments": {},
   "cell_type": "markdown",
   "metadata": {},
   "source": [
    "Dokładność"
   ]
  }
 ],
 "metadata": {
  "kernelspec": {
   "display_name": "Python 3",
   "language": "python",
   "name": "python3"
  },
  "language_info": {
   "codemirror_mode": {
    "name": "ipython",
    "version": 3
   },
   "file_extension": ".py",
   "mimetype": "text/x-python",
   "name": "python",
   "nbconvert_exporter": "python",
   "pygments_lexer": "ipython3",
   "version": "3.10.10"
  },
  "orig_nbformat": 4
 },
 "nbformat": 4,
 "nbformat_minor": 2
}
