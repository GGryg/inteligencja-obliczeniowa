{
 "cells": [
  {
   "cell_type": "code",
   "execution_count": null,
   "metadata": {},
   "outputs": [],
   "source": [
    "import pandas as pd\n",
    "from sklearn.model_selection import train_test_split\n",
    "\n",
    "df = pd.read_csv(\"iris.csv\")\n",
    "\n",
    "(train_set, test_set) = train_test_split(df.values, train_size=0.7, random_state=278839)"
   ]
  },
  {
   "attachments": {},
   "cell_type": "markdown",
   "metadata": {},
   "source": [
    "Przygotowanie danych"
   ]
  },
  {
   "cell_type": "code",
   "execution_count": null,
   "metadata": {},
   "outputs": [],
   "source": [
    "def classify_iris(sl, sw, pl, pw):\n",
    "    if pw < 0.6:\n",
    "        return (\"setosa\")\n",
    "    elif pl > 4.5 and pw > 1.6:\n",
    "        return(\"virginica\")\n",
    "    else:\n",
    "        return(\"versicolor\")"
   ]
  },
  {
   "attachments": {},
   "cell_type": "markdown",
   "metadata": {},
   "source": [
    "Funkcja do rozpoznania"
   ]
  },
  {
   "cell_type": "code",
   "execution_count": null,
   "metadata": {},
   "outputs": [],
   "source": [
    "good_predictions = 0\n",
    "len = test_set.shape[0]\n",
    "\n",
    "for i in range(len):\n",
    "    if classify_iris(test_set[i, 0], test_set[i, 1], test_set[i, 2], test_set[i, 3]) == test_set[i, -1]:\n",
    "        good_predictions += 1\n",
    "    \n",
    "    print(good_predictions)\n",
    "    print(good_predictions/len*100, '%')"
   ]
  },
  {
   "attachments": {},
   "cell_type": "markdown",
   "metadata": {},
   "source": [
    "Dokładność"
   ]
  }
 ],
 "metadata": {
  "language_info": {
   "name": "python"
  },
  "orig_nbformat": 4
 },
 "nbformat": 4,
 "nbformat_minor": 2
}
