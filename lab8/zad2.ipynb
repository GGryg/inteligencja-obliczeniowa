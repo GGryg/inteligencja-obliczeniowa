{
 "cells": [
  {
   "cell_type": "code",
   "execution_count": 1,
   "metadata": {},
   "outputs": [],
   "source": [
    "opinion1 = \"The hotel was excellent - super clean, quiet, good breakfast, and the staff were very friendly and helpful. The location was perfect, right in the center of town. I highly recommend this hotel!\"\n",
    "opinion2 = \"This hotel was a complete disaster. The room was dirty and smelly, and the bed was uncomfortable. The staff were unhelpful and rude. I would never stay here again and I do not recommend it to anyone.\""
   ]
  },
  {
   "cell_type": "code",
   "execution_count": 2,
   "metadata": {},
   "outputs": [
    {
     "name": "stdout",
     "output_type": "stream",
     "text": [
      "Score for positive:  {'neg': 0.0, 'neu': 0.464, 'pos': 0.536, 'compound': 0.9789}\n",
      "Score for negative:  {'neg': 0.337, 'neu': 0.663, 'pos': 0.0, 'compound': -0.9288}\n"
     ]
    }
   ],
   "source": [
    "from nltk.sentiment.vader import SentimentIntensityAnalyzer\n",
    "\n",
    "sid = SentimentIntensityAnalyzer()\n",
    "\n",
    "positive_scores = sid.polarity_scores(opinion1)\n",
    "negative_scores = sid.polarity_scores(opinion2)\n",
    "\n",
    "print(\"Score for positive: \", positive_scores)\n",
    "print(\"Score for negative: \", negative_scores)"
   ]
  },
  {
   "cell_type": "code",
   "execution_count": 6,
   "metadata": {},
   "outputs": [
    {
     "ename": "AttributeError",
     "evalue": "module 'emoji' has no attribute 'UNICODE_EMOJI'",
     "output_type": "error",
     "traceback": [
      "\u001b[1;31m---------------------------------------------------------------------------\u001b[0m",
      "\u001b[1;31mAttributeError\u001b[0m                            Traceback (most recent call last)",
      "Cell \u001b[1;32mIn[6], line 4\u001b[0m\n\u001b[0;32m      1\u001b[0m \u001b[39mimport\u001b[39;00m \u001b[39mtext2emotion\u001b[39;00m \u001b[39mas\u001b[39;00m \u001b[39mt2e\u001b[39;00m\n\u001b[0;32m      2\u001b[0m \u001b[39mimport\u001b[39;00m \u001b[39memoji\u001b[39;00m\n\u001b[1;32m----> 4\u001b[0m positive_emotion \u001b[39m=\u001b[39m t2e\u001b[39m.\u001b[39;49mget_emotion(opinion1)\n\u001b[0;32m      5\u001b[0m negative_emotion \u001b[39m=\u001b[39m t2e\u001b[39m.\u001b[39mget_emotion(opinion2)\n\u001b[0;32m      7\u001b[0m \u001b[39mprint\u001b[39m(\u001b[39m\"\u001b[39m\u001b[39mScore for positive: \u001b[39m\u001b[39m\"\u001b[39m, positive_emotion)\n",
      "File \u001b[1;32m~\\AppData\\Local\\Packages\\PythonSoftwareFoundation.Python.3.10_qbz5n2kfra8p0\\LocalCache\\local-packages\\Python310\\site-packages\\text2emotion\\__init__.py:2716\u001b[0m, in \u001b[0;36mget_emotion\u001b[1;34m(input)\u001b[0m\n\u001b[0;32m   2713\u001b[0m     \u001b[39m# print(clean_text)\u001b[39;00m\n\u001b[0;32m   2714\u001b[0m     \u001b[39mreturn\u001b[39;00m clean_text\n\u001b[1;32m-> 2716\u001b[0m text \u001b[39m=\u001b[39m cleaning(\u001b[39minput\u001b[39;49m)\u001b[39m.\u001b[39msplit()\n\u001b[0;32m   2717\u001b[0m emotion_values \u001b[39m=\u001b[39m []\n\u001b[0;32m   2718\u001b[0m emotions \u001b[39m=\u001b[39m {\u001b[39m\"\u001b[39m\u001b[39mHappy\u001b[39m\u001b[39m\"\u001b[39m: \u001b[39m0\u001b[39m, \u001b[39m\"\u001b[39m\u001b[39mAngry\u001b[39m\u001b[39m\"\u001b[39m: \u001b[39m0\u001b[39m, \u001b[39m\"\u001b[39m\u001b[39mSurprise\u001b[39m\u001b[39m\"\u001b[39m: \u001b[39m0\u001b[39m, \u001b[39m\"\u001b[39m\u001b[39mSad\u001b[39m\u001b[39m\"\u001b[39m: \u001b[39m0\u001b[39m, \u001b[39m\"\u001b[39m\u001b[39mFear\u001b[39m\u001b[39m\"\u001b[39m: \u001b[39m0\u001b[39m}\n",
      "File \u001b[1;32m~\\AppData\\Local\\Packages\\PythonSoftwareFoundation.Python.3.10_qbz5n2kfra8p0\\LocalCache\\local-packages\\Python310\\site-packages\\text2emotion\\__init__.py:2700\u001b[0m, in \u001b[0;36mget_emotion.<locals>.cleaning\u001b[1;34m(text)\u001b[0m\n\u001b[0;32m   2698\u001b[0m \u001b[39mdef\u001b[39;00m \u001b[39mcleaning\u001b[39m(text):\n\u001b[0;32m   2699\u001b[0m     text \u001b[39m=\u001b[39m text\u001b[39m.\u001b[39mlower()\n\u001b[1;32m-> 2700\u001b[0m     text \u001b[39m=\u001b[39m emojis_extractor(text)\n\u001b[0;32m   2701\u001b[0m     text \u001b[39m=\u001b[39m re\u001b[39m.\u001b[39msub(\u001b[39mr\u001b[39m\u001b[39m'\u001b[39m\u001b[39mhttp\u001b[39m\u001b[39m\\\u001b[39m\u001b[39mS+|www.\u001b[39m\u001b[39m\\\u001b[39m\u001b[39mS+\u001b[39m\u001b[39m'\u001b[39m, \u001b[39m'\u001b[39m\u001b[39m'\u001b[39m, text)\n\u001b[0;32m   2702\u001b[0m     text \u001b[39m=\u001b[39m removing_contradictions(text)\n",
      "File \u001b[1;32m~\\AppData\\Local\\Packages\\PythonSoftwareFoundation.Python.3.10_qbz5n2kfra8p0\\LocalCache\\local-packages\\Python310\\site-packages\\text2emotion\\__init__.py:2569\u001b[0m, in \u001b[0;36mget_emotion.<locals>.emojis_extractor\u001b[1;34m(text)\u001b[0m\n\u001b[0;32m   2078\u001b[0m \u001b[39mdef\u001b[39;00m \u001b[39memojis_extractor\u001b[39m(text):\n\u001b[0;32m   2079\u001b[0m     emoj \u001b[39m=\u001b[39m {\u001b[39m'\u001b[39m\u001b[39mEmoji\u001b[39m\u001b[39m'\u001b[39m: [\u001b[39m'\u001b[39m\u001b[39m👏 🏾\u001b[39m\u001b[39m'\u001b[39m,\n\u001b[0;32m   2080\u001b[0m                       \u001b[39m'\u001b[39m\u001b[39m👏 🏼\u001b[39m\u001b[39m'\u001b[39m,\n\u001b[0;32m   2081\u001b[0m                       \u001b[39m'\u001b[39m\u001b[39m👏 🏽\u001b[39m\u001b[39m'\u001b[39m,\n\u001b[1;32m   (...)\u001b[0m\n\u001b[0;32m   2567\u001b[0m                         \u001b[39m'\u001b[39m\u001b[39mFear\u001b[39m\u001b[39m'\u001b[39m,\n\u001b[0;32m   2568\u001b[0m                         \u001b[39m'\u001b[39m\u001b[39mFear\u001b[39m\u001b[39m'\u001b[39m]}\n\u001b[1;32m-> 2569\u001b[0m     a \u001b[39m=\u001b[39m \u001b[39m\"\u001b[39;49m\u001b[39m \u001b[39;49m\u001b[39m\"\u001b[39;49m\u001b[39m.\u001b[39;49mjoin(c \u001b[39mfor\u001b[39;49;00m c \u001b[39min\u001b[39;49;00m text \u001b[39mif\u001b[39;49;00m c \u001b[39min\u001b[39;49;00m emoji\u001b[39m.\u001b[39;49mUNICODE_EMOJI)\u001b[39m.\u001b[39msplit()\n\u001b[0;32m   2570\u001b[0m     \u001b[39mfor\u001b[39;00m i \u001b[39min\u001b[39;00m a:\n\u001b[0;32m   2571\u001b[0m         \u001b[39mtry\u001b[39;00m:\n",
      "File \u001b[1;32m~\\AppData\\Local\\Packages\\PythonSoftwareFoundation.Python.3.10_qbz5n2kfra8p0\\LocalCache\\local-packages\\Python310\\site-packages\\text2emotion\\__init__.py:2569\u001b[0m, in \u001b[0;36m<genexpr>\u001b[1;34m(.0)\u001b[0m\n\u001b[0;32m   2078\u001b[0m \u001b[39mdef\u001b[39;00m \u001b[39memojis_extractor\u001b[39m(text):\n\u001b[0;32m   2079\u001b[0m     emoj \u001b[39m=\u001b[39m {\u001b[39m'\u001b[39m\u001b[39mEmoji\u001b[39m\u001b[39m'\u001b[39m: [\u001b[39m'\u001b[39m\u001b[39m👏 🏾\u001b[39m\u001b[39m'\u001b[39m,\n\u001b[0;32m   2080\u001b[0m                       \u001b[39m'\u001b[39m\u001b[39m👏 🏼\u001b[39m\u001b[39m'\u001b[39m,\n\u001b[0;32m   2081\u001b[0m                       \u001b[39m'\u001b[39m\u001b[39m👏 🏽\u001b[39m\u001b[39m'\u001b[39m,\n\u001b[1;32m   (...)\u001b[0m\n\u001b[0;32m   2567\u001b[0m                         \u001b[39m'\u001b[39m\u001b[39mFear\u001b[39m\u001b[39m'\u001b[39m,\n\u001b[0;32m   2568\u001b[0m                         \u001b[39m'\u001b[39m\u001b[39mFear\u001b[39m\u001b[39m'\u001b[39m]}\n\u001b[1;32m-> 2569\u001b[0m     a \u001b[39m=\u001b[39m \u001b[39m\"\u001b[39m\u001b[39m \u001b[39m\u001b[39m\"\u001b[39m\u001b[39m.\u001b[39mjoin(c \u001b[39mfor\u001b[39;00m c \u001b[39min\u001b[39;00m text \u001b[39mif\u001b[39;00m c \u001b[39min\u001b[39;00m emoji\u001b[39m.\u001b[39;49mUNICODE_EMOJI)\u001b[39m.\u001b[39msplit()\n\u001b[0;32m   2570\u001b[0m     \u001b[39mfor\u001b[39;00m i \u001b[39min\u001b[39;00m a:\n\u001b[0;32m   2571\u001b[0m         \u001b[39mtry\u001b[39;00m:\n",
      "\u001b[1;31mAttributeError\u001b[0m: module 'emoji' has no attribute 'UNICODE_EMOJI'"
     ]
    }
   ],
   "source": [
    "import text2emotion as t2e\n",
    "\n",
    "positive_emotion = t2e.get_emotion(opinion1)\n",
    "negative_emotion = t2e.get_emotion(opinion2)\n",
    "\n",
    "print(\"Score for positive: \", positive_emotion)\n",
    "print(\"Score for negative: \", negative_emotion)"
   ]
  },
  {
   "attachments": {},
   "cell_type": "markdown",
   "metadata": {},
   "source": [
    "Występuje problem z emoji w notatniku, rezulat jest z pliku zad2.py\n",
    "\n",
    "Score for positive:  {'Happy': 0.5, 'Angry': 0.0, 'Surprise': 0.0, 'Sad': 0.5, 'Fear': 0.0}\n",
    "\n",
    "Score for negative:  {'Happy': 0.0, 'Angry': 0.33, 'Surprise': 0.33, 'Sad': 0.17, 'Fear': 0.17}"
   ]
  },
  {
   "attachments": {},
   "cell_type": "markdown",
   "metadata": {},
   "source": [
    "Są częściowo zgodne z przewidzieniami\n",
    "\n",
    "Porównanie\n",
    "\n",
    "Vader prawidłowo rozpoznał choć nie chętnie, trochę ponad 50% dla pozytywnej, trochę ponad 30% dla negatywnej \n",
    "\n",
    "Text2Emotion dla pozytywnej opinii, choć rozpoznał ją po połowie, ale po drugiej rozpoznał ją jako smutną, jeśli chodzi o negatywną rozpoznał ją w 1/3 poprawnie, dodają przy tym zaskoczenie, smutek i starch "
   ]
  },
  {
   "cell_type": "code",
   "execution_count": 20,
   "metadata": {},
   "outputs": [],
   "source": [
    "opinion1 += \" Spacious, bright, and veeeeery cosy! The view from the balcony was stunning and the bed was extremely comfortable! The greatest time in my life!\"\n",
    "opinion2 += \" The bathroom was disgusting and the sheets were covered in stains. Could not sleep whole night, it was the worst night in my life.\""
   ]
  },
  {
   "cell_type": "code",
   "execution_count": 21,
   "metadata": {},
   "outputs": [
    {
     "name": "stdout",
     "output_type": "stream",
     "text": [
      "Score for positive:  {'neg': 0.0, 'neu': 0.578, 'pos': 0.422, 'compound': 0.9992}\n",
      "Score for negative:  {'neg': 0.26, 'neu': 0.74, 'pos': 0.0, 'compound': -0.9979}\n"
     ]
    }
   ],
   "source": [
    "positive_scores = sid.polarity_scores(opinion1)\n",
    "negative_scores = sid.polarity_scores(opinion2)\n",
    "\n",
    "print(\"Score for positive: \", positive_scores)\n",
    "print(\"Score for negative: \", negative_scores)"
   ]
  },
  {
   "cell_type": "code",
   "execution_count": 9,
   "metadata": {},
   "outputs": [
    {
     "ename": "AttributeError",
     "evalue": "module 'emoji' has no attribute 'UNICODE_EMOJI'",
     "output_type": "error",
     "traceback": [
      "\u001b[1;31m---------------------------------------------------------------------------\u001b[0m",
      "\u001b[1;31mAttributeError\u001b[0m                            Traceback (most recent call last)",
      "Cell \u001b[1;32mIn[9], line 1\u001b[0m\n\u001b[1;32m----> 1\u001b[0m positive_emotion \u001b[39m=\u001b[39m t2e\u001b[39m.\u001b[39;49mget_emotion(opinion1)\n\u001b[0;32m      2\u001b[0m negative_emotion \u001b[39m=\u001b[39m t2e\u001b[39m.\u001b[39mget_emotion(opinion2)\n\u001b[0;32m      4\u001b[0m \u001b[39mprint\u001b[39m(\u001b[39m\"\u001b[39m\u001b[39mScore for positive: \u001b[39m\u001b[39m\"\u001b[39m, positive_emotion)\n",
      "File \u001b[1;32m~\\AppData\\Local\\Packages\\PythonSoftwareFoundation.Python.3.10_qbz5n2kfra8p0\\LocalCache\\local-packages\\Python310\\site-packages\\text2emotion\\__init__.py:2716\u001b[0m, in \u001b[0;36mget_emotion\u001b[1;34m(input)\u001b[0m\n\u001b[0;32m   2713\u001b[0m     \u001b[39m# print(clean_text)\u001b[39;00m\n\u001b[0;32m   2714\u001b[0m     \u001b[39mreturn\u001b[39;00m clean_text\n\u001b[1;32m-> 2716\u001b[0m text \u001b[39m=\u001b[39m cleaning(\u001b[39minput\u001b[39;49m)\u001b[39m.\u001b[39msplit()\n\u001b[0;32m   2717\u001b[0m emotion_values \u001b[39m=\u001b[39m []\n\u001b[0;32m   2718\u001b[0m emotions \u001b[39m=\u001b[39m {\u001b[39m\"\u001b[39m\u001b[39mHappy\u001b[39m\u001b[39m\"\u001b[39m: \u001b[39m0\u001b[39m, \u001b[39m\"\u001b[39m\u001b[39mAngry\u001b[39m\u001b[39m\"\u001b[39m: \u001b[39m0\u001b[39m, \u001b[39m\"\u001b[39m\u001b[39mSurprise\u001b[39m\u001b[39m\"\u001b[39m: \u001b[39m0\u001b[39m, \u001b[39m\"\u001b[39m\u001b[39mSad\u001b[39m\u001b[39m\"\u001b[39m: \u001b[39m0\u001b[39m, \u001b[39m\"\u001b[39m\u001b[39mFear\u001b[39m\u001b[39m\"\u001b[39m: \u001b[39m0\u001b[39m}\n",
      "File \u001b[1;32m~\\AppData\\Local\\Packages\\PythonSoftwareFoundation.Python.3.10_qbz5n2kfra8p0\\LocalCache\\local-packages\\Python310\\site-packages\\text2emotion\\__init__.py:2700\u001b[0m, in \u001b[0;36mget_emotion.<locals>.cleaning\u001b[1;34m(text)\u001b[0m\n\u001b[0;32m   2698\u001b[0m \u001b[39mdef\u001b[39;00m \u001b[39mcleaning\u001b[39m(text):\n\u001b[0;32m   2699\u001b[0m     text \u001b[39m=\u001b[39m text\u001b[39m.\u001b[39mlower()\n\u001b[1;32m-> 2700\u001b[0m     text \u001b[39m=\u001b[39m emojis_extractor(text)\n\u001b[0;32m   2701\u001b[0m     text \u001b[39m=\u001b[39m re\u001b[39m.\u001b[39msub(\u001b[39mr\u001b[39m\u001b[39m'\u001b[39m\u001b[39mhttp\u001b[39m\u001b[39m\\\u001b[39m\u001b[39mS+|www.\u001b[39m\u001b[39m\\\u001b[39m\u001b[39mS+\u001b[39m\u001b[39m'\u001b[39m, \u001b[39m'\u001b[39m\u001b[39m'\u001b[39m, text)\n\u001b[0;32m   2702\u001b[0m     text \u001b[39m=\u001b[39m removing_contradictions(text)\n",
      "File \u001b[1;32m~\\AppData\\Local\\Packages\\PythonSoftwareFoundation.Python.3.10_qbz5n2kfra8p0\\LocalCache\\local-packages\\Python310\\site-packages\\text2emotion\\__init__.py:2569\u001b[0m, in \u001b[0;36mget_emotion.<locals>.emojis_extractor\u001b[1;34m(text)\u001b[0m\n\u001b[0;32m   2078\u001b[0m \u001b[39mdef\u001b[39;00m \u001b[39memojis_extractor\u001b[39m(text):\n\u001b[0;32m   2079\u001b[0m     emoj \u001b[39m=\u001b[39m {\u001b[39m'\u001b[39m\u001b[39mEmoji\u001b[39m\u001b[39m'\u001b[39m: [\u001b[39m'\u001b[39m\u001b[39m👏 🏾\u001b[39m\u001b[39m'\u001b[39m,\n\u001b[0;32m   2080\u001b[0m                       \u001b[39m'\u001b[39m\u001b[39m👏 🏼\u001b[39m\u001b[39m'\u001b[39m,\n\u001b[0;32m   2081\u001b[0m                       \u001b[39m'\u001b[39m\u001b[39m👏 🏽\u001b[39m\u001b[39m'\u001b[39m,\n\u001b[1;32m   (...)\u001b[0m\n\u001b[0;32m   2567\u001b[0m                         \u001b[39m'\u001b[39m\u001b[39mFear\u001b[39m\u001b[39m'\u001b[39m,\n\u001b[0;32m   2568\u001b[0m                         \u001b[39m'\u001b[39m\u001b[39mFear\u001b[39m\u001b[39m'\u001b[39m]}\n\u001b[1;32m-> 2569\u001b[0m     a \u001b[39m=\u001b[39m \u001b[39m\"\u001b[39;49m\u001b[39m \u001b[39;49m\u001b[39m\"\u001b[39;49m\u001b[39m.\u001b[39;49mjoin(c \u001b[39mfor\u001b[39;49;00m c \u001b[39min\u001b[39;49;00m text \u001b[39mif\u001b[39;49;00m c \u001b[39min\u001b[39;49;00m emoji\u001b[39m.\u001b[39;49mUNICODE_EMOJI)\u001b[39m.\u001b[39msplit()\n\u001b[0;32m   2570\u001b[0m     \u001b[39mfor\u001b[39;00m i \u001b[39min\u001b[39;00m a:\n\u001b[0;32m   2571\u001b[0m         \u001b[39mtry\u001b[39;00m:\n",
      "File \u001b[1;32m~\\AppData\\Local\\Packages\\PythonSoftwareFoundation.Python.3.10_qbz5n2kfra8p0\\LocalCache\\local-packages\\Python310\\site-packages\\text2emotion\\__init__.py:2569\u001b[0m, in \u001b[0;36m<genexpr>\u001b[1;34m(.0)\u001b[0m\n\u001b[0;32m   2078\u001b[0m \u001b[39mdef\u001b[39;00m \u001b[39memojis_extractor\u001b[39m(text):\n\u001b[0;32m   2079\u001b[0m     emoj \u001b[39m=\u001b[39m {\u001b[39m'\u001b[39m\u001b[39mEmoji\u001b[39m\u001b[39m'\u001b[39m: [\u001b[39m'\u001b[39m\u001b[39m👏 🏾\u001b[39m\u001b[39m'\u001b[39m,\n\u001b[0;32m   2080\u001b[0m                       \u001b[39m'\u001b[39m\u001b[39m👏 🏼\u001b[39m\u001b[39m'\u001b[39m,\n\u001b[0;32m   2081\u001b[0m                       \u001b[39m'\u001b[39m\u001b[39m👏 🏽\u001b[39m\u001b[39m'\u001b[39m,\n\u001b[1;32m   (...)\u001b[0m\n\u001b[0;32m   2567\u001b[0m                         \u001b[39m'\u001b[39m\u001b[39mFear\u001b[39m\u001b[39m'\u001b[39m,\n\u001b[0;32m   2568\u001b[0m                         \u001b[39m'\u001b[39m\u001b[39mFear\u001b[39m\u001b[39m'\u001b[39m]}\n\u001b[1;32m-> 2569\u001b[0m     a \u001b[39m=\u001b[39m \u001b[39m\"\u001b[39m\u001b[39m \u001b[39m\u001b[39m\"\u001b[39m\u001b[39m.\u001b[39mjoin(c \u001b[39mfor\u001b[39;00m c \u001b[39min\u001b[39;00m text \u001b[39mif\u001b[39;00m c \u001b[39min\u001b[39;00m emoji\u001b[39m.\u001b[39;49mUNICODE_EMOJI)\u001b[39m.\u001b[39msplit()\n\u001b[0;32m   2570\u001b[0m     \u001b[39mfor\u001b[39;00m i \u001b[39min\u001b[39;00m a:\n\u001b[0;32m   2571\u001b[0m         \u001b[39mtry\u001b[39;00m:\n",
      "\u001b[1;31mAttributeError\u001b[0m: module 'emoji' has no attribute 'UNICODE_EMOJI'"
     ]
    }
   ],
   "source": [
    "positive_emotion = t2e.get_emotion(opinion1)\n",
    "negative_emotion = t2e.get_emotion(opinion2)\n",
    "\n",
    "print(\"Score for positive: \", positive_emotion)\n",
    "print(\"Score for negative: \", negative_emotion)"
   ]
  },
  {
   "attachments": {},
   "cell_type": "markdown",
   "metadata": {},
   "source": [
    "Score for positive:  {'Happy': 0.5, 'Angry': 0.0, 'Surprise': 0.1, 'Sad': 0.3, 'Fear': 0.1}\n",
    "\n",
    "Score for negative:  {'Happy': 0.0, 'Angry': 0.2, 'Surprise': 0.2, 'Sad': 0.3, 'Fear': 0.3}"
   ]
  },
  {
   "attachments": {},
   "cell_type": "markdown",
   "metadata": {},
   "source": [
    "Po dodaniu pare słów:\n",
    "\n",
    "Vader ok 40% dla pozytwnej, czyli mniej, także dla negatwynej dał niższy wynik\n",
    "\n",
    "Text2Emotion trochę mniej smutku ale dodał zaskoczenie i smutek dla pozytywnej, mniej złą i mniej zaskoczenia ale więcej smutku i strachu dla negatywnej"
   ]
  }
 ],
 "metadata": {
  "kernelspec": {
   "display_name": "Python 3",
   "language": "python",
   "name": "python3"
  },
  "language_info": {
   "codemirror_mode": {
    "name": "ipython",
    "version": 3
   },
   "file_extension": ".py",
   "mimetype": "text/x-python",
   "name": "python",
   "nbconvert_exporter": "python",
   "pygments_lexer": "ipython3",
   "version": "3.10.11"
  },
  "orig_nbformat": 4
 },
 "nbformat": 4,
 "nbformat_minor": 2
}
