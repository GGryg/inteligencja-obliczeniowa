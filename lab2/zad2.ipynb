{
 "cells": [
  {
   "cell_type": "code",
   "execution_count": null,
   "metadata": {},
   "outputs": [
    {
     "ename": "",
     "evalue": "",
     "output_type": "error",
     "traceback": [
      "\u001b[1;31mRunning cells with 'c:\\Users\\Nyan\\AppData\\Local\\Microsoft\\WindowsApps\\python3.10.exe' requires the ipykernel package.\n",
      "\u001b[1;31mRun the following command to install 'ipykernel' into the Python environment. \n",
      "\u001b[1;31mCommand: 'c:/Users/Nyan/AppData/Local/Microsoft/WindowsApps/python3.10.exe -m pip install ipykernel -U --user --force-reinstall'"
     ]
    }
   ],
   "source": [
    "times = [0.008546590805053711, 0.006523847579956055, 0.024456024169921875, 0.01003408432006836, 0.0017724037170410156,\n",
    "         0.028824567794799805, 0.014846563339233398, 0.006981611251831055, 0.008000373840332031, 0.01633143424987793]\n",
    "\n",
    "sumTimes = sum(times)\n",
    "avg = sumTimes/len(times)\n",
    "\n",
    "print(\"AVG: \", avg) # zad 2 d"
   ]
  },
  {
   "attachments": {},
   "cell_type": "markdown",
   "metadata": {},
   "source": [
    "Zadanie 2 d\n",
    "obliczenie średniej 10 czasów"
   ]
  }
 ],
 "metadata": {
  "kernelspec": {
   "display_name": "Python 3",
   "language": "python",
   "name": "python3"
  },
  "language_info": {
   "name": "python",
   "version": "3.10.10"
  },
  "orig_nbformat": 4
 },
 "nbformat": 4,
 "nbformat_minor": 2
}
